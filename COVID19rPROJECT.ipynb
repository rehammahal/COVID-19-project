{
  "nbformat": 4,
  "nbformat_minor": 0,
  "metadata": {
    "colab": {
      "name": "COVID19rPROJECT",
      "provenance": [],
      "collapsed_sections": [],
      "authorship_tag": "ABX9TyPOc8KoqxJIisnIUW4gCll+",
      "include_colab_link": true
    },
    "kernelspec": {
      "name": "python3",
      "display_name": "Python 3"
    },
    "language_info": {
      "name": "python"
    }
  },
  "cells": [
    {
      "cell_type": "markdown",
      "metadata": {
        "id": "view-in-github",
        "colab_type": "text"
      },
      "source": [
        "<a href=\"https://colab.research.google.com/github/rehammahal/COVID-19-project/blob/main/COVID19rPROJECT.ipynb\" target=\"_parent\"><img src=\"https://colab.research.google.com/assets/colab-badge.svg\" alt=\"Open In Colab\"/></a>"
      ]
    },
    {
      "cell_type": "code",
      "metadata": {
        "colab": {
          "base_uri": "https://localhost:8080/"
        },
        "id": "1_GfptwP8JEm",
        "outputId": "8fad9225-31ee-46db-b352-64a3385d9442"
      },
      "source": [
        "import pandas as pn\n",
        "import numpy as np\n",
        "\n",
        "path = \"COVID19-project.xlsx\"\n",
        "\n",
        "covidData = pn.read_excel(path)\n",
        "\n",
        "#Before\n",
        "print(covidData)\n",
        "\n",
        "#Check All Data Types\n",
        "covidData.dtypes\n",
        "\n",
        "#Check All Statisical Matric of Dataset\n",
        "covidData.describe(include=\"all\")\n",
        "\n",
        "#Drop Daily\\Cumulative and Event Attributes\n",
        "new_covidData = covidData.drop('Event', axis = 'columns', inplace = True)\n",
        "new_covidData = covidData.drop('Daily / Cumulative', axis = 'columns', inplace = True)\n",
        "\n",
        "#Drop Records We Don't Need\n",
        "new_covidData = covidData.drop(range(1277,30873), axis = 'rows', inplace = True)\n",
        "\n",
        "#Drop Total Records\n",
        "new_covidData = covidData[covidData[\"City\"].str.contains(\"Total\")==False]\n",
        "\n",
        "#Change Wrong Format in Dataset\n",
        "new_covidData[\"Cases\"].replace(\"?\", np.nan, inplace = True)\n",
        "\n",
        "#Save New Data Frame after Changing\n",
        "new_covidData.to_excel(\"newCleaningCOVID19.xlsx\")\n",
        "\n",
        "#After\n",
        "print(new_covidData)"
      ],
      "execution_count": 11,
      "outputs": [
        {
          "output_type": "stream",
          "text": [
            "      Daily / Cumulative     Indicator  ...                        City Cases\n",
            "0                  Daily         Cases  ...                       Qatif     1\n",
            "1                  Daily         Cases  ...                       Qatif     1\n",
            "2                  Daily         Cases  ...                       Qatif     2\n",
            "3                  Daily         Cases  ...                       Total     4\n",
            "4                  Daily         Cases  ...                      Dammam     4\n",
            "...                  ...           ...  ...                         ...   ...\n",
            "30868         Cumulative  Active cases  ...             Hazm Al Jalamid    18\n",
            "30869         Cumulative  Active cases  ...  Al Hadithah Border Station     5\n",
            "30870         Cumulative  Active cases  ...                   Al Aydabi     1\n",
            "30871         Cumulative  Active cases  ...                       Umluj    26\n",
            "30872         Cumulative  Active cases  ...                       Bqeeq    41\n",
            "\n",
            "[30873 rows x 7 columns]\n"
          ],
          "name": "stdout"
        },
        {
          "output_type": "stream",
          "text": [
            "/usr/local/lib/python3.7/dist-packages/ipykernel_launcher.py:15: FutureWarning: Treating datetime data as categorical rather than numeric in `.describe` is deprecated and will be removed in a future version of pandas. Specify `datetime_is_numeric=True` to silence this warning and adopt the future behavior now.\n",
            "  from ipykernel import kernelapp as app\n",
            "/usr/local/lib/python3.7/dist-packages/pandas/core/series.py:4582: SettingWithCopyWarning: \n",
            "A value is trying to be set on a copy of a slice from a DataFrame\n",
            "\n",
            "See the caveats in the documentation: https://pandas.pydata.org/pandas-docs/stable/user_guide/indexing.html#returning-a-view-versus-a-copy\n",
            "  method=method,\n"
          ],
          "name": "stderr"
        },
        {
          "output_type": "stream",
          "text": [
            "         Indicator       Date          region       City  Cases\n",
            "0            Cases 2020-03-02  Eastern Region      Qatif    1.0\n",
            "1            Cases 2020-03-04  Eastern Region      Qatif    1.0\n",
            "2            Cases 2020-03-07  Eastern Region      Qatif    2.0\n",
            "4            Cases 2020-03-10  Eastern Region     Dammam    4.0\n",
            "5            Cases 2020-03-12           Mecca      Mecca   21.0\n",
            "...            ...        ...             ...        ...    ...\n",
            "1271   Mortalities 2020-06-13           Jazan      Sabya    1.0\n",
            "1272   Mortalities 2020-06-13          Riyadh  Huraymila    1.0\n",
            "1273   Mortalities 2020-06-13           Jazan      Baish    1.0\n",
            "1274  Active cases 2020-03-02  Eastern Region      Qatif    1.0\n",
            "1276  Active cases 2020-03-07  Eastern Region      Qatif    7.0\n",
            "\n",
            "[1226 rows x 5 columns]\n"
          ],
          "name": "stdout"
        }
      ]
    }
  ]
}