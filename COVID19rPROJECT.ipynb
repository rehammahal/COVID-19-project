{
  "nbformat": 4,
  "nbformat_minor": 0,
  "metadata": {
    "colab": {
      "name": "COVID19rPROJECT",
      "provenance": [],
      "collapsed_sections": [],
      "authorship_tag": "ABX9TyMm53iaQ/AWMnS27h0Rvdb4",
      "include_colab_link": true
    },
    "kernelspec": {
      "name": "python3",
      "display_name": "Python 3"
    },
    "language_info": {
      "name": "python"
    }
  },
  "cells": [
    {
      "cell_type": "markdown",
      "metadata": {
        "id": "view-in-github",
        "colab_type": "text"
      },
      "source": [
        "<a href=\"https://colab.research.google.com/github/rehammahal/COVID-19-project/blob/main/COVID19rPROJECT.ipynb\" target=\"_parent\"><img src=\"https://colab.research.google.com/assets/colab-badge.svg\" alt=\"Open In Colab\"/></a>"
      ]
    },
    {
      "cell_type": "code",
      "metadata": {
        "colab": {
          "base_uri": "https://localhost:8080/"
        },
        "id": "1_GfptwP8JEm",
        "outputId": "c651cb8d-6629-4bff-a6ee-7c0a7b77eac7"
      },
      "source": [
        "import pandas as myData\n",
        "import numpy as np\n",
        "\n",
        "path = \"COVID19-project.xlsx\"\n",
        "\n",
        "covidData = myData.read_excel(path)\n",
        "\n",
        "#Check All Data Types\n",
        "covidData.dtypes\n",
        "\n",
        "#Check All Statisical Matric of Dataset\n",
        "covidData.describe(include=\"all\")\n",
        "\n",
        "#Drop Daily\\Cumulative and Event Attributes\n",
        "covidData.drop('Event', axis = 'columns', inplace = True)\n",
        "covidData.drop('Daily / Cumulative', axis = 'columns', inplace = True)\n",
        "\n",
        "#Drop Records We Don't Need\n",
        "covidData.drop(range(1276,30873), axis = 'rows', inplace = True)\n",
        "\n",
        "#Drop Total Records\n",
        "new_covidData = covidData[covidData[\"City\"].str.contains(\"Total\")==False]\n",
        "\n",
        "#Change Wrong Format in Dataset\n",
        "new_covidData[\"Cases\"].replace(\"?\", np.nan, inplace = True)\n",
        "\n",
        "#Save New Data Frame after Changing\n",
        "covidData.to_excel(\"CleaningCOVID19.xlsx\")\n",
        "new_covidData.to_excel(\"newCleaningCOVID19.xlsx\")\n",
        "\n"
      ],
      "execution_count": 65,
      "outputs": [
        {
          "output_type": "stream",
          "text": [
            "/usr/local/lib/python3.7/dist-packages/ipykernel_launcher.py:12: FutureWarning: Treating datetime data as categorical rather than numeric in `.describe` is deprecated and will be removed in a future version of pandas. Specify `datetime_is_numeric=True` to silence this warning and adopt the future behavior now.\n",
            "  if sys.path[0] == '':\n",
            "/usr/local/lib/python3.7/dist-packages/pandas/core/series.py:4582: SettingWithCopyWarning: \n",
            "A value is trying to be set on a copy of a slice from a DataFrame\n",
            "\n",
            "See the caveats in the documentation: https://pandas.pydata.org/pandas-docs/stable/user_guide/indexing.html#returning-a-view-versus-a-copy\n",
            "  method=method,\n"
          ],
          "name": "stderr"
        }
      ]
    }
  ]
}