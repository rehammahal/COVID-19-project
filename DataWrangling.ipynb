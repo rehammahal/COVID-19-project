{
  "nbformat": 4,
  "nbformat_minor": 0,
  "metadata": {
    "colab": {
      "name": "DataWrangling.ipynb",
      "provenance": [],
      "authorship_tag": "ABX9TyMWCWn2oTKmk3T8E5FYy+pg",
      "include_colab_link": true
    },
    "kernelspec": {
      "name": "python3",
      "display_name": "Python 3"
    },
    "language_info": {
      "name": "python"
    }
  },
  "cells": [
    {
      "cell_type": "markdown",
      "metadata": {
        "id": "view-in-github",
        "colab_type": "text"
      },
      "source": [
        "<a href=\"https://colab.research.google.com/github/rehammahal/COVID-19-project/blob/main/DataWrangling.ipynb\" target=\"_parent\"><img src=\"https://colab.research.google.com/assets/colab-badge.svg\" alt=\"Open In Colab\"/></a>"
      ]
    },
    {
      "cell_type": "code",
      "metadata": {
        "colab": {
          "base_uri": "https://localhost:8080/"
        },
        "id": "Pbvxd6kyPjQS",
        "outputId": "eb859744-860b-4198-d567-65b4245c3d54"
      },
      "source": [
        "import pandas as pn\n",
        "import numpy as np\n",
        "\n",
        "path = \"COVID19-project.xlsx\"\n",
        "\n",
        "covidData = pn.read_excel(path)\n",
        "\n",
        "#Before\n",
        "print(\"------------ Dataset Before Wrangling------------\")\n",
        "print(covidData)\n",
        "\n",
        "#Check All Data Types\n",
        "print(\"------------ Check All Data Types ------------\")\n",
        "print(covidData.dtypes)\n",
        "\n",
        "#Check All Statisical Matric of Dataset\n",
        "print(\"------------ Check All Statisical Matric of Dataset ------------\")\n",
        "print(covidData.describe(include=\"all\"))\n",
        "\n",
        "#Drop Daily\\Cumulative and Event Attributes\n",
        "\n",
        "new_covidData = covidData.drop('Event', axis = 'columns', inplace = True)\n",
        "new_covidData = covidData.drop('Daily / Cumulative', axis = 'columns', inplace = True)\n",
        "## AnotherWay---> new_covidData = covidData[['Indicator', 'Date', 'region', 'City', 'Cases']]\n",
        "\n",
        "#Drop Records We Don't Need\n",
        "new_covidData = covidData.drop(range(1277,30873), axis = 'rows', inplace = True)\n",
        "\n",
        "#Drop Total Records\n",
        "new_covidData = covidData[covidData[\"City\"].str.contains(\"Total\")==False]\n",
        "#AnotherWays: 1--> new_covidData = new_covidData.drop(new_covidData[(new_covidData.region == \"Total\")].index)   2--> new_covidData = new_covidData[new_covidData.region != \"Total\"]\n",
        "\n",
        "#Change Wrong Format in Dataset\n",
        "new_covidData[\"Cases\"].replace(\"?\", np.nan, inplace = True) \n",
        "new_covidData[\"Cases\"] = new_covidData[\"Cases\"].astype('float64')\n",
        "#AnotherWays: 1--> new_covidData = new_covidData.drop(new_covidData[(new_covidData.Cases == \"?\")].index) 2--> new_covidData.isnull().sum() COMMENT: To delet all False or null values\n",
        "\n",
        "#Save New Data Frame after Changing\n",
        "new_covidData.to_excel(\"newCleaningCOVID19.xlsx\")\n",
        "\n",
        "#After\n",
        "print(\"------------ Dataset After Wrangling ------------\")\n",
        "print(new_covidData)"
      ],
      "execution_count": 2,
      "outputs": [
        {
          "output_type": "stream",
          "text": [
            "------------ Dataset Before Wrangling------------\n",
            "      Daily / Cumulative     Indicator  ...                        City Cases\n",
            "0                  Daily         Cases  ...                       Qatif     1\n",
            "1                  Daily         Cases  ...                       Qatif     1\n",
            "2                  Daily         Cases  ...                       Qatif     2\n",
            "3                  Daily         Cases  ...                       Total     4\n",
            "4                  Daily         Cases  ...                      Dammam     4\n",
            "...                  ...           ...  ...                         ...   ...\n",
            "30868         Cumulative  Active cases  ...             Hazm Al Jalamid    18\n",
            "30869         Cumulative  Active cases  ...  Al Hadithah Border Station     5\n",
            "30870         Cumulative  Active cases  ...                   Al Aydabi     1\n",
            "30871         Cumulative  Active cases  ...                       Umluj    26\n",
            "30872         Cumulative  Active cases  ...                       Bqeeq    41\n",
            "\n",
            "[30873 rows x 7 columns]\n",
            "------------ Check All Data Types ------------\n",
            "Daily / Cumulative            object\n",
            "Indicator                     object\n",
            "Date                  datetime64[ns]\n",
            "Event                         object\n",
            "region                        object\n",
            "City                          object\n",
            "Cases                         object\n",
            "dtype: object\n",
            "------------ Check All Statisical Matric of Dataset ------------\n",
            "       Daily / Cumulative Indicator  ...   City    Cases\n",
            "count               30873     30873  ...  30867  30865.0\n",
            "unique                  2         5  ...    188   2156.0\n",
            "top            Cumulative     Cases  ...  Total      1.0\n",
            "freq                24440     12534  ...    713   6334.0\n",
            "first                 NaN       NaN  ...    NaN      NaN\n",
            "last                  NaN       NaN  ...    NaN      NaN\n",
            "\n",
            "[6 rows x 7 columns]\n"
          ],
          "name": "stdout"
        },
        {
          "output_type": "stream",
          "text": [
            "/usr/local/lib/python3.7/dist-packages/ipykernel_launcher.py:20: FutureWarning: Treating datetime data as categorical rather than numeric in `.describe` is deprecated and will be removed in a future version of pandas. Specify `datetime_is_numeric=True` to silence this warning and adopt the future behavior now.\n",
            "/usr/local/lib/python3.7/dist-packages/pandas/core/series.py:4582: SettingWithCopyWarning: \n",
            "A value is trying to be set on a copy of a slice from a DataFrame\n",
            "\n",
            "See the caveats in the documentation: https://pandas.pydata.org/pandas-docs/stable/user_guide/indexing.html#returning-a-view-versus-a-copy\n",
            "  method=method,\n",
            "/usr/local/lib/python3.7/dist-packages/ipykernel_launcher.py:37: SettingWithCopyWarning: \n",
            "A value is trying to be set on a copy of a slice from a DataFrame.\n",
            "Try using .loc[row_indexer,col_indexer] = value instead\n",
            "\n",
            "See the caveats in the documentation: https://pandas.pydata.org/pandas-docs/stable/user_guide/indexing.html#returning-a-view-versus-a-copy\n"
          ],
          "name": "stderr"
        },
        {
          "output_type": "stream",
          "text": [
            "------------ Dataset After Wrangling ------------\n",
            "         Indicator       Date          region       City  Cases\n",
            "0            Cases 2020-03-02  Eastern Region      Qatif    1.0\n",
            "1            Cases 2020-03-04  Eastern Region      Qatif    1.0\n",
            "2            Cases 2020-03-07  Eastern Region      Qatif    2.0\n",
            "4            Cases 2020-03-10  Eastern Region     Dammam    4.0\n",
            "5            Cases 2020-03-12           Mecca      Mecca   21.0\n",
            "...            ...        ...             ...        ...    ...\n",
            "1271   Mortalities 2020-06-13           Jazan      Sabya    1.0\n",
            "1272   Mortalities 2020-06-13          Riyadh  Huraymila    1.0\n",
            "1273   Mortalities 2020-06-13           Jazan      Baish    1.0\n",
            "1274  Active cases 2020-03-02  Eastern Region      Qatif    1.0\n",
            "1276  Active cases 2020-03-07  Eastern Region      Qatif    7.0\n",
            "\n",
            "[1226 rows x 5 columns]\n"
          ],
          "name": "stdout"
        }
      ]
    }
  ]
}